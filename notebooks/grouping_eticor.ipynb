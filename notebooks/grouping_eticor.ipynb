{
  "cells": [
    {
      "cell_type": "code",
      "execution_count": 31,
      "metadata": {
        "colab": {
          "base_uri": "https://localhost:8080/",
          "height": 423
        },
        "id": "JmiCKSnXhGZs",
        "outputId": "6d02fce8-252c-4d55-b455-8edd9c73f611"
      },
      "outputs": [],
      "source": [
        "import pandas as pd\n",
        "import os\n",
        "import random\n"
      ]
    },
    {
      "cell_type": "code",
      "execution_count": 34,
      "metadata": {},
      "outputs": [],
      "source": [
        "df = pd.read_excel(os.path.abspath('../eticor_cleaned.xlsx'))"
      ]
    },
    {
      "cell_type": "code",
      "execution_count": 36,
      "metadata": {
        "colab": {
          "base_uri": "https://localhost:8080/"
        },
        "id": "Ks7v8i6agzGU",
        "outputId": "f81cb508-b041-4b50-859a-2dcab68c6c65"
      },
      "outputs": [],
      "source": [
        "travel_keywords = [\"greeting\", \"hello\", \"welcome\", \"festival\", \"celebration\", \"ceremony\", \"parade\", \"tradition\", \"holiday\", \"custom\",\n",
        "                   \"farewell\", \"goodbye\", \"event\", \"gathering\", \"reunion\", \"party\", \"invitation\", \"host\", \"hospitality\", \"festivity\",\n",
        "                   \"seasonal\", \"new year\", \"christmas\", \"easter\", \"ramadan\", \"thanksgiving\", \"wedding\", \"anniversary\", \"birthday\",\n",
        "                   \"gala\", \"handshake\", \"cultural event\", \"bonfire\", \"feast\", \"family gathering\", \"farewell event\", \"festive\", \"inviting\",\n",
        "                   \"welcoming\", \"visit\", \"occasion\", \"celebrate\", \"present\", \"gift\", \"souvenir\", \"honor\", \"respect\", \"thank you\", \"appreciation\",\n",
        "                   \"kindness\", \"offer\", \"gesture\", \"get-together\", \"hostess\", \"season\", \"vacation season\", \"celebratory\", \"neighbor\", \"holiday season\",\n",
        "                   \"exchange\", \"festival season\", \"joyful\", \"new year celebration\", \"inviting guests\", \"hosting\", \"visiting family\", \"reunion event\",\n",
        "                   \"celebration time\", \"gathering guests\", \"gift giving\", \"festive atmosphere\", \"joy\", \"respectful\", \"ceremonial\", \"cultural greeting\",\n",
        "                   \"thankful\", \"warm\",\"welcome\", \"appreciate\", \"host family\", \"family traditions\", \"shared moments\", \"festive greetings\", \"group gathering\",\n",
        "                   \"personal greeting\", \"traditional greeting\", \"formal greeting\", \"informal greeting\", \"hello greeting\", \"goodbye greeting\", \"hospitality event\",\n",
        "                   \"welcoming guests\", \"farewell gathering\", \"seasonal event\", \"family celebrations\", \"cultural appreciation\", \"joyful moments\", \"thanksgiving celebration\"]\n",
        "\n",
        "business_keywords = [\"meeting\", \"conference\", \"presentation\", \"email\", \"boss\", \"report\", \"deadline\", \"business\",\"punctual\",\"contract\", \"negotiation\",\n",
        "                     \"client\", \"project\", \"proposal\", \"strategy\", \"manager\", \"office\", \"interview\", \"promotion\", \"networking\",\n",
        "                     \"collaborate\", \"salary\", \"budget\", \"plan\", \"agreement\", \"agenda\", \"professional\", \"formal\", \"coworker\", \"work\",\n",
        "                     \"performance\", \"workplace\", \"colleague\", \"business trip\", \"HR\", \"team\", \"finance\", \"startup\", \"entrepreneur\",\n",
        "                     \"job\", \"role\", \"department\", \"investment\", \"workload\", \"outsourcing\", \"profit\", \"sales\", \"teamwork\", \"KPI\",\n",
        "                     \"shareholder\", \"task\", \"goals\", \"strategy meeting\", \"work plan\", \"objective\", \"analysis\", \"market\",\n",
        "                     \"brand\", \"competition\", \"partnership\", \"executive\", \"delegation\", \"enterprise\", \"corporation\", \"office space\",\n",
        "                     \"evaluation\", \"meeting agenda\", \"negotiating terms\", \"merger\", \"acquisition\", \"employee benefits\", \"HR policy\",\n",
        "                     \"corporate culture\", \"productivity\", \"work-life balance\", \"corporate\", \"job\", \"interview\", \"contract\",\"negotiation\",\n",
        "                     \"team-building\", \"leadership\", \"management\", \"workshop\", \"seminar\", \"training\", \"network\", \"business strategy\",\n",
        "                     \"performance review\", \"work evaluation\", \"executive summary\", \"profit analysis\", \"quarterly meeting\", \"sales review\",\n",
        "                     \"work goals\", \"client meeting\", \"conference call\", \"corporate event\", \"business discussion\", \"work deadline\", \"promotion event\",'illustration']\n",
        "\n",
        "visits_keywords = [\"guest\", \"visit\", \"home\", \"host\", \"party\", \"invitation\", \"welcome\", \"present\", \"greeting\", \"arrival\", \"hospitality\",\n",
        "                   \"stay\", \"family\", \"friends\", \"reunion\", \"neighbor\", \"tradition\", \"custom\", \"housewarming\", \"relatives\",\n",
        "                   \"gathering\", \"farewell\", \"meet\", \"house\", \"inviting\", \"reception\", \"cultural\", \"manners\", \"social\", \"visit time\",\n",
        "                   \"etiquette\", \"introduction\", \"occasion\", \"hospitality\", \"custom\", \"visit\", \"courtesy\", \"welcome note\", \"event\",\n",
        "                   \"visit duration\", \"call\", \"gesture\", \"hosting\", \"farewell party\", \"speak\", \"respect\", \"meetup\", \"relax\", \"comfort\",\n",
        "                   \"converse\", \"socialize\", \"offer tea\", \"greeting guests\", \"reception event\", \"tea party\", \"holiday visit\", \"special visit\",\n",
        "                   \"social manners\", \"farewell greeting\", \"arrival time\", \"invitations\", \"gift giving\", \"personal gathering\", \"guest reception\",\n",
        "                   \"family gathering\", \"friends visiting\", \"accommodation\", \"inviting neighbors\", \"event reception\", \"home visit\", \"host gathering\",\n",
        "                   \"family visits\", \"private gathering\", \"visitors\", \"hospitality service\", \"invite friends\", \"welcome dinner\", \"arrival greeting\",\n",
        "                   \"thank you note\", \"courteous gesture\", \"respectful visit\", \"guest appreciation\", \"neighborhood visit\", \"social event\", \"private reception\",\n",
        "                   \"introduction party\", \"visit etiquette\", \"family traditions\", \"personal invitation\", \"greeting relatives\", \"farewell gifts\"]\n",
        "\n",
        "dining_keywords = [\"table\", \"eat\",\"dining\",\"chopsticks\",\"food\",\"dish\",\"cuisine\",\"menu\", \"fork\", \"knife\", \"napkin\", \"waiter\", \"restaurant\", \"meal\", \"course\", \"dessert\", \"wine\", \"dinner\",\n",
        "                   \"reservation\", \"tip\", \"cutlery\", \"taste\",\"sour\",\"sweet\",\"spices\",\"bake\",\"made\",\"buffet\", \"seating\", \"bread\", \"plate\", \"etiquette\", \"dining\", \"cheers\", \"food\",\n",
        "                   \"breakfast\", \"lunch\", \"banquet\", \"cuisine\", \"dish\", \"serving\", \"beverage\", \"toast\", \"appetizer\", \"serving\",\"breakfast\",\"lunch\",\"dinner\",\n",
        "                   \"formal\", \"mealtime\", \"restaurant\", \"service\", \"chef\", \"etiquette\", \"bill\", \"table manners\", \"silverware\",\n",
        "                   \"wine glass\", \"restaurant\", \"plate\", \"cuisine\", \"waitstaff\", \"service\", \"seat\", \"order\", \"main course\",\n",
        "                   \"place setting\", \"tablecloth\", \"clean up\", \"dining out\", \"guest seating\", \"menu choices\", \"wine list\", \"specials\",\n",
        "                   \"waiter service\", \"gourmet\", \"chef's recommendation\", \"dining experience\", \"ambiance\", \"course menu\", \"buffet service\",\n",
        "                   \"drink service\", \"tasting menu\", \"wine pairing\", \"waiter recommendation\", \"bill payment\", \"restaurant service\",\n",
        "                   \"clean cutlery\", \"dining event\", \"waiter\", \"tip\", \"reservation confirmation\", \"guest service\", \"food order\", \"formal dining\",\n",
        "                   \"special menu\", \"fine dining\", \"table service\", \"family meal\", \"restaurant etiquette\", \"bill splitting\", \"meal\",\"mealtime\",\n",
        "                   \"waiter greeting\", \"wine tasting\", \"formal dinner\", \"etiquette manners\", \"chef greeting\", \"waiter interaction\",\"eating\",\"dining\",\n",
        "                   'drinking','mealtime','portions']\n",
        "\n",
        "def categorize_etiquette(etiquette, keyword_dicts):\n",
        "    \"\"\"\n",
        "    Categorize etiquette based on keywords.\n",
        "    Args:\n",
        "        etiquette (str): The etiquette text to categorize.\n",
        "        keyword_dicts (dict): A dictionary of keyword categories and their keywords.\n",
        "    Returns:\n",
        "        str: The category of the etiquette.\n",
        "    \"\"\"\n",
        "    etiquette_lower = etiquette.lower()\n",
        "    for category, keywords in keyword_dicts.items():\n",
        "        for keyword in keywords:\n",
        "            if keyword in etiquette_lower:\n",
        "                return category\n",
        "    return \"NA\"\n",
        "\n",
        "keyword_dicts = {\n",
        "    \"visits\": travel_keywords,\n",
        "    \"business\": business_keywords,\n",
        "    \"travel\": visits_keywords,\n",
        "    \"dining\": dining_keywords\n",
        "}\n",
        "\n"
      ]
    },
    {
      "cell_type": "code",
      "execution_count": 37,
      "metadata": {
        "colab": {
          "base_uri": "https://localhost:8080/"
        },
        "id": "yHmeCLk6mfw3",
        "outputId": "7a27713c-0af0-42d5-de69-b4f33eb22565"
      },
      "outputs": [],
      "source": [
        "groups = []\n",
        "for etiq in df['etiquette statement']:\n",
        "    groups.append(categorize_etiquette(etiq,keyword_dicts))"
      ]
    },
    {
      "cell_type": "code",
      "execution_count": 39,
      "metadata": {
        "colab": {
          "base_uri": "https://localhost:8080/"
        },
        "id": "kcpSV7EdnX6n",
        "outputId": "8089a917-a2ae-44c0-d57c-0385511e5d7e"
      },
      "outputs": [],
      "source": [
        "\n",
        "new_travel_keywords = [\"journey\", \"exploration\", \"adventure\", \"voyage\", \"trip\", \"expedition\", \"sightseeing\", \"landmark\", \"postcard\",\n",
        "                       \"festival tour\", \"pilgrimage\", \"road\", \"tour\", \"landscape\", \"countryside\", \"explorer\", \"traveler\", \"sunset\",\n",
        "                       \"vacation\", \"tourist\", \"destination\", \"adventurer\", \"safari\", \"journey planning\", \"travel document\", \"souvenir shopping\",\n",
        "                       \"local guide\", \"regional celebration\", \"festive lights\", \"tourism\", \"historic site\", \"holiday celebration\", \"cultural event\",\n",
        "                       \"dance festival\", \"music festival\", \"seasonal holiday\", \"nature trip\", \"excursion\", \"festive meal\", \"rural area\", \"open road\",\n",
        "                       \"cultural festivities\", \"historical tour\", \"explore village\", \"greeting locals\", \"traditional ceremony\", \"festival market\",\n",
        "                       \"town visit\", \"tourist guide\", \"local crafts\", \"explore countryside\", \"festive route\", \"historic walk\", \"journey destination\",\n",
        "                       \"landmark tour\", \"explore\", \"tourist hotspot\", \"travel companion\", \"excursion event\", \"regional festival\", \"adventurous journey\",\n",
        "                       \"explorer path\", \"cultural route\", \"local festival\", \"sunrise trip\", \"travelogue\", \"historic landmark\", \"travel photo\",\n",
        "                       \"festival season\", \"traveler's guide\", \"exploration route\", \"global festivity\", \"festive adventure\", \"tourist path\",\n",
        "                       \"visit countryside\", \"cultural landscape\", \"journey highlights\", \"traditional dance\", \"local celebration\", \"sunset journey\",\n",
        "                       \"expedition group\", \"festive itinerary\", \"nature exploration\", \"cultural sightseeing\", \"pilgrimage route\", \"festive route\"]\n",
        "\n",
        "new_business_keywords = [\"presentation skills\", \"corporate\", \"stakeholder\", \"public speaking\", \"meeting minutes\", \"conference call\", \"multitasking\",\n",
        "                         \"corporate communication\", \"entrepreneurship\", \"growth\", \"business deal\", \"executive board\", \"cost management\",\n",
        "                         \"client relationship\", \"budget report\", \"corporate restructuring\", \"revenue stream\", \"business meeting\", \"professional goal\",\n",
        "                         \"project timeline\", \"sales pitch\", \"strategic plan\", \"professional development\", \"business report\", \"boardroom\", \"economic growth\",\n",
        "                         \"business model\", \"contract terms\", \"meeting follow-up\", \"company culture\", \"customer service\", \"business plan\", \"company presentation\",\n",
        "                         \"financial analysis\", \"entrepreneurial\", \"business development\", \"HR management\", \"profit margin\", \"market analysis\", \"partnerships\",\n",
        "                         \"office politics\", \"corporate finance\", \"business venture\", \"project milestone\", \"sales target\", \"executive position\",\n",
        "                         \"corporate structure\", \"internal communication\", \"business ethics\", \"keynote speech\", \"corporate performance\", \"employee relations\",\n",
        "                         \"management goals\", \"corporate event\", \"office leadership\", \"professional etiquette\", \"customer interaction\", \"business ethics\",\n",
        "                         \"sales strategy\", \"economic goals\", \"corporate vision\", \"business presentation\", \"client satisfaction\", \"industry growth\",\n",
        "                         \"business\", \"sales increase\", \"corporate partnerships\", \"executive decision\", \"team meeting\", \"business expertise\",\n",
        "                         \"workshop presentation\", \"business etiquette\", \"goal setting\", \"investment meeting\", \"management skills\", \"client success\",\n",
        "                         \"business integrity\", \"public relations\", \"company goals\", \"professional communication\", \"business acumen\", \"team dynamics\",\n",
        "                         \"conference presentation\", \"financial goals\", \"office structure\", \"client presentation\", \"business success\", \"employee training\",\n",
        "                         \"business leadership\", \"executive vision\", \"HR practices\", \"business report\"]\n",
        "\n",
        "new_visits_keywords = [\"home\", \"visit\", \"family gathering\", \"meeting friends\", \"social occasion\", \"home invitation\", \"guest etiquette\", \"neighborhood visit\",\n",
        "                       \"reunion party\", \"family event\", \"welcoming friends\", \"neighborhood event\", \"courteous visit\", \"community gathering\", \"visiting time\",\n",
        "                       \"hosting event\", \"friendly visit\", \"tea party\", \"courtesy visit\", \"farewell event\", \"guest gathering\", \"visit arrangement\",\n",
        "                       \"holiday visit\", \"social gathering\", \"inviting friends\", \"family reunion\", \"neighbor gathering\", \"holiday occasion\", \"visit preparation\",\n",
        "                       \"gathering\" ,\"guests\", \"friendly chat\", \"social event\", \"family time\", \"private visit\", \"meeting relatives\", \"neighborhood gathering\",\n",
        "                       \"courtesy event\", \"welcoming event\", \"formal visit\", \"personal visit\", \"meeting family\", \"holiday reunion\", \"house visit\", \"greeting family\",\n",
        "                       \"visiting etiquette\", \"farewell gesture\", \"guest reception\", \"neighbor invitation\", \"holiday gathering\", \"tea gathering\", \"home reception\",\n",
        "                       \"courteous gesture\", \"social occasion\", \"visit invitation\", \"neighborhood gathering\", \"greeting friends\", \"friendly reception\",\n",
        "                       \"family hospitality\", \"holiday event\", \"farewell invitation\", \"courtesy visit\", \"neighborhood welcome\", \"holiday time\", \"meeting neighbors\",\n",
        "                       \"family tradition\", \"reception time\", \"welcoming event\", \"guest visit\", \"community event\", \"house reception\", \"inviting neighbors\",\n",
        "                       \"meeting family\", \"private gathering\", \"visiting relatives\", \"farewell party\", \"social meeting\", \"personal meeting\", \"visit welcome\",\n",
        "                       \"neighborhood greeting\", \"guest arrival\", \"holiday reception\", \"family welcome\", \"gathering family\", \"holiday greeting\", \"courteous visit\",\n",
        "                       \"farewell gathering\", \"private event\", \"social visit\", \"guest farewell\", \"community event\", \"farewell greeting\"]\n",
        "\n",
        "new_dining_keywords = [\"dining etiquette\", \"restaurant reservation\", \"meal etiquette\", \"formal dining\", \"course meal\", \"wine pairing\", \"fine dining\",\n",
        "                       \"formal dinner\", \"place setting\", \"wine etiquette\", \"menu selection\", \"appetizer course\", \"waiter service\", \"restaurant setting\",\n",
        "                       \"guest service\", \"fine cuisine\", \"restaurant dining\", \"meal reservation\", \"formal meal\", \"dinner etiquette\", \"wine selection\",\n",
        "                       \"restaurant menu\", \"main course\", \"beverage selection\", \"meal service\", \"formal setting\", \"dining reservation\", \"restaurant etiquette\",\n",
        "                       \"formal seating\", \"meal course\", \"table setup\", \"wine glass\", \"restaurant order\", \"fine meal\", \"wine pairing\", \"chef recommendation\",\n",
        "                       \"beverage etiquette\", \"restaurant experience\", \"formal etiquette\", \"food menu\", \"specialty dish\", \"chef service\", \"gourmet meal\",\n",
        "                       \"meal pairing\", \"dinner reservation\", \"restaurant meal\", \"service etiquette\", \"table arrangement\", \"formal meal service\", \"dining event\",\n",
        "                       \"formal menu\", \"wine service\", \"guest dinner\", \"meal course\", \"guest seating\", \"meal etiquette\", \"service staff\", \"menu planning\",\n",
        "                       \"formal menu selection\", \"dining order\", \"gourmet restaurant\", \"chef's menu\", \"guest menu\", \"restaurant service\", \"wine recommendation\",\n",
        "                       \"fine dining experience\", \"formal dinner setting\", \"restaurant ambiance\", \"gourmet dining\", \"guest wine\", \"formal dining reservation\",\n",
        "                       \"dining table\", \"beverage pairing\", \"guest etiquette\", \"meal serving\", \"restaurant course\", \"table etiquette\", \"course service\",\n",
        "                       \"restaurant ambiance\", \"formal wine pairing\", \"meal service etiquette\", \"guest interaction\", \"formal dining event\", \"wine tasting\",\n",
        "                       \"restaurant manager\", \"formal guest seating\", \"meal interaction\", \"formal meal event\", \"formal course serving\", \"restaurant service etiquette\"]\n",
        "\n"
      ]
    },
    {
      "cell_type": "code",
      "execution_count": 40,
      "metadata": {},
      "outputs": [],
      "source": [
        "for i,etiq in enumerate(df['etiquette statement']):\n",
        "    if groups[i]=='NA':\n",
        "        groups[i]=categorize_etiquette(etiq,{\n",
        "            \"travel\": new_travel_keywords,\n",
        "            \"business\": new_business_keywords,\n",
        "            \"visits\": new_visits_keywords,\n",
        "            \"dining\": new_dining_keywords\n",
        "        })\n",
        "    # If even after this step, the group is still 'NA', we manually assign it afterwards."
      ]
    },
    {
      "cell_type": "code",
      "execution_count": 41,
      "metadata": {},
      "outputs": [],
      "source": [
        "df['group'] = groups"
      ]
    },
    {
      "cell_type": "code",
      "execution_count": 42,
      "metadata": {},
      "outputs": [],
      "source": [
        "df.to_excel('eticor_cleaned_grouped.xlsx',index=False)"
      ]
    }
  ],
  "metadata": {
    "colab": {
      "provenance": []
    },
    "kernelspec": {
      "display_name": "Python 3",
      "name": "python3"
    },
    "language_info": {
      "codemirror_mode": {
        "name": "ipython",
        "version": 3
      },
      "file_extension": ".py",
      "mimetype": "text/x-python",
      "name": "python",
      "nbconvert_exporter": "python",
      "pygments_lexer": "ipython3",
      "version": "3.10.13"
    }
  },
  "nbformat": 4,
  "nbformat_minor": 0
}
