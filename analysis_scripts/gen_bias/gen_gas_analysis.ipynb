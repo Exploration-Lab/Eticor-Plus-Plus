{
 "cells": [
  {
   "cell_type": "code",
   "execution_count": 1,
   "metadata": {},
   "outputs": [],
   "source": [
    "import numpy as np\n",
    "import torch"
   ]
  },
  {
   "cell_type": "code",
   "execution_count": null,
   "metadata": {},
   "outputs": [],
   "source": [
    "model = \"llama31\"\n",
    "n_responses = 3\n",
    "\n",
    "analysis_array = np.zeros((5,n_responses))\n",
    "\n",
    "for response_number in range(1,n_responses+1):\n",
    "    data = torch.load(f\"../../{model}_nli_response_{response_number}_dict.pt\")\n",
    "    for i,(k,v) in enumerate(data):\n",
    "        analysis_array[i][response_number-1] = v['entail']/(v['entail']+v['contra'])\n",
    "\n",
    "print(np.mean(analysis_array,axis=-1))\n",
    "print(np.std(analysis_array,axis=-1))"
   ]
  }
 ],
 "metadata": {
  "kernelspec": {
   "display_name": "nlp",
   "language": "python",
   "name": "python3"
  },
  "language_info": {
   "codemirror_mode": {
    "name": "ipython",
    "version": 3
   },
   "file_extension": ".py",
   "mimetype": "text/x-python",
   "name": "python",
   "nbconvert_exporter": "python",
   "pygments_lexer": "ipython3",
   "version": "3.10.13"
  }
 },
 "nbformat": 4,
 "nbformat_minor": 2
}
